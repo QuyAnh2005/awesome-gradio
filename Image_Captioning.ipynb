{
  "nbformat": 4,
  "nbformat_minor": 0,
  "metadata": {
    "colab": {
      "private_outputs": true,
      "provenance": []
    },
    "kernelspec": {
      "name": "python3",
      "display_name": "Python 3"
    },
    "language_info": {
      "name": "python"
    }
  },
  "cells": [
    {
      "cell_type": "markdown",
      "source": [
        "# Image Captioning with Gradio"
      ],
      "metadata": {
        "id": "XiZOJurY3-af"
      }
    },
    {
      "cell_type": "code",
      "source": [
        "# !pip install transformers gradio"
      ],
      "metadata": {
        "id": "sAa31OLG4Adn"
      },
      "execution_count": null,
      "outputs": []
    },
    {
      "cell_type": "code",
      "source": [
        "from transformers import pipeline\n",
        "\n",
        "get_completion = pipeline(\"image-to-text\", model=\"Salesforce/blip-image-captioning-base\")\n",
        "\n",
        "def summarize(input):\n",
        "    output = get_completion(input)\n",
        "    return output[0]['generated_text']"
      ],
      "metadata": {
        "id": "5ey7rWbh4gyR"
      },
      "execution_count": null,
      "outputs": []
    },
    {
      "cell_type": "markdown",
      "source": [
        "The free images are available on: https://free-images.com/"
      ],
      "metadata": {
        "id": "PrvRv3Oc4veE"
      }
    },
    {
      "cell_type": "code",
      "source": [
        "import IPython.display\n",
        "from PIL import Image\n",
        "import base64\n",
        "import io"
      ],
      "metadata": {
        "id": "Tyvegeui5QLI"
      },
      "execution_count": null,
      "outputs": []
    },
    {
      "cell_type": "code",
      "source": [
        "image_url = \"https://free-images.com/sm/9596/dog_animal_greyhound_983023.jpg\"\n",
        "display(IPython.display.Image(url=image_url))\n",
        "get_completion(image_url)"
      ],
      "metadata": {
        "id": "QjJJXL2248Z5"
      },
      "execution_count": null,
      "outputs": []
    },
    {
      "cell_type": "code",
      "source": [
        "import gradio as gr\n",
        "\n",
        "def image_to_base64_str(pil_image):\n",
        "    byte_arr = io.BytesIO()\n",
        "    pil_image.save(byte_arr, format='PNG')\n",
        "    byte_arr = byte_arr.getvalue()\n",
        "    return str(base64.b64encode(byte_arr).decode('utf-8'))\n",
        "\n",
        "def captioner(image):\n",
        "    base64_image = image_to_base64_str(image)\n",
        "    result = get_completion(base64_image)\n",
        "    return result[0]['generated_text']\n",
        "\n",
        "gr.close_all()\n",
        "demo = gr.Interface(fn=captioner,\n",
        "                    inputs=[gr.Image(label=\"Upload image\", type=\"pil\")],\n",
        "                    outputs=[gr.Textbox(label=\"Caption\")],\n",
        "                    title=\"Image Captioning with BLIP\",\n",
        "                    description=\"Caption any image using the BLIP model\",\n",
        "                    allow_flagging=\"never\",\n",
        "                    examples=[\"dog_animal_greyhound.jpg\"])\n",
        "\n",
        "demo.launch(share=True)"
      ],
      "metadata": {
        "id": "b53yAo-T4v-g"
      },
      "execution_count": null,
      "outputs": []
    },
    {
      "cell_type": "code",
      "source": [],
      "metadata": {
        "id": "Mai4odPw5bNr"
      },
      "execution_count": null,
      "outputs": []
    }
  ]
}